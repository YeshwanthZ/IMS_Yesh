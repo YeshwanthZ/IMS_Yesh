{
  "nbformat": 4,
  "nbformat_minor": 5,
  "metadata": {
    "kernelspec": {
      "display_name": "Python 3",
      "language": "python",
      "name": "python3"
    },
    "language_info": {
      "codemirror_mode": {
        "name": "ipython",
        "version": 3
      },
      "file_extension": ".py",
      "mimetype": "text/x-python",
      "name": "python",
      "nbconvert_exporter": "python",
      "pygments_lexer": "ipython3",
      "version": "3.8.8"
    },
    "colab": {
      "name": "IMSystem_Final.ipynb",
      "provenance": []
    }
  },
  "cells": [
    {
      "cell_type": "markdown",
      "metadata": {
        "id": "9kISCXoVp2E_"
      },
      "source": [
        "**Entry of values to json**"
      ],
      "id": "9kISCXoVp2E_"
    },
    {
      "cell_type": "code",
      "metadata": {
        "id": "wfDgKiOky9pj",
        "colab": {
          "base_uri": "https://localhost:8080/"
        },
        "outputId": "2a018114-7cbf-46d5-d99c-33ac0a5bda65"
      },
      "source": [
        "#MANUAL ENTRY BLOCK START\n",
        "fs=open('/content/Dataset_mod_6.json','w') #add new records\n",
        "id=input('Enter ID ')\n",
        "name_item=input('Enter name of the item ')\n",
        "item_type=input('Enter type of item ')\n",
        "item_cost=int(input('Enter cost of item '))\n",
        "ret_avail=input('Enter return availability ')\n",
        "suiting=input('Enter suitability age group ')\n",
        "items_avail=int(input('Enter number of items available '))\n",
        "convnext[id]={\"Name\":name_item, \"Type\":item_type, \"Cost\":item_cost,\"Return_Available\":ret_avail,\"Suitability\":suiting,\"Units\":items_avail}\n",
        "new_recs=json.dumps(convnext) #convert updated dictonary back to json\n",
        "fs.write(new_recs) #write updated json\n",
        "fs.close() #save"
      ],
      "id": "wfDgKiOky9pj",
      "execution_count": null,
      "outputs": [
        {
          "name": "stdout",
          "output_type": "stream",
          "text": [
            "Enter ID 11227788\n",
            "Enter name of the item Lays_Tomato\n",
            "Enter type of item Food\n",
            "Enter cost of item 60\n",
            "Enter return availability Yes\n",
            "Enter suitability age group All\n",
            "Enter number of items available 60\n"
          ]
        }
      ]
    },
    {
      "cell_type": "code",
      "metadata": {
        "id": "L5egFF4fniZG"
      },
      "source": [
        "#MANUAL ENTRY BLOCK END\n",
        "import json\n",
        "fs=open('/content/Dataset_mod_6.json','r') #Read json \n",
        "conv=fs.read() \n",
        "fs.close()\n",
        "convnext=json.loads(conv) #convert json to dictionary for further operations"
      ],
      "id": "L5egFF4fniZG",
      "execution_count": null,
      "outputs": []
    },
    {
      "cell_type": "markdown",
      "metadata": {
        "id": "Ur9CVQQOqL_D"
      },
      "source": [
        "**Updating Existing Json if needed**"
      ],
      "id": "Ur9CVQQOqL_D"
    },
    {
      "cell_type": "code",
      "metadata": {
        "id": "wdx5EG_kWNOl",
        "colab": {
          "base_uri": "https://localhost:8080/"
        },
        "outputId": "8b8513d2-1419-4b7d-a5f3-ac9d54840d12"
      },
      "source": [
        "#UPDATION OF EXISTING ENTRIES BLOCK START\n",
        "fs=open('/content/Dataset_mod_6.json','r') #Read json \n",
        "conv=fs.read() \n",
        "fs.close()\n",
        "convnext=json.loads(conv) #Convert json to dictonary\n",
        "print(convnext)"
      ],
      "id": "wdx5EG_kWNOl",
      "execution_count": null,
      "outputs": [
        {
          "output_type": "stream",
          "name": "stdout",
          "text": [
            "{'11006591': {'Name': 'Puma_EW_Cricket_Bat', 'Type': 'Sports_Accessories', 'Cost': 5000, 'Return_Available': 'Yes', 'Suitability': 'Senior', 'Units': 80}, '11006592': {'Name': 'Puma_KW_Cricket_Bat', 'Type': 'Sports_Accessories', 'Cost': 3000, 'Return_Available': 'Yes', 'Suitability': 'All', 'Units': 80}, '11006593': {'Name': 'Puma_Running_Shoes', 'Type': 'Sports_Accessories', 'Cost': 3500, 'Return_Available': 'Yes', 'Suitability': 'Senior', 'Units': 80}, '11006594': {'Name': 'Adidas_Spiked_Shoes', 'Type': 'Sports_Accessories', 'Cost': 5500, 'Return_Available': 'Yes', 'Suitability': 'Senior', 'Units': 80}, '11006595': {'Name': 'Adidas_Track_Pant', 'Type': 'Sports_Accessories', 'Cost': 1500, 'Return_Available': 'Yes', 'Suitability': 'Senior', 'Units': 80}, '11006596': {'Name': 'Adidas_Track_Pant', 'Type': 'Sports_Accessories', 'Cost': 1200, 'Return_Available': 'Yes', 'Suitability': 'Junior', 'Units': 80}, '11006597': {'Name': 'Apple_Iphone_10S', 'Type': 'Gadgets', 'Cost': 75000, 'Return_Available': 'No', 'Suitability': 'All', 'Units': 80}, '11227788': {'Name': 'Wooden_Chairs', 'Type': 'Furniture', 'Cost': 3000, 'Return_Available': 'Yes', 'Suitability': 'All', 'Units': 60}}\n"
          ]
        }
      ]
    },
    {
      "cell_type": "code",
      "metadata": {
        "id": "fWMBceFSuO0-"
      },
      "source": [
        "#UPDATION OF EXISTING ENTRIES BLOCK END\n",
        "fs=open('/content/Dataset_mod_6.json','w')\n",
        "convnext['11006591']['Name']='Puma_EW_g2_Cricket_Bat_5' # SAMPLE - update any existing record\n",
        "print(convnext)\n",
        "final_conv=json.dumps(convnext) #convert back to json\n",
        "#print(final_conv)\n",
        "fs.write(final_conv) #Save updated file\n",
        "fs.close()"
      ],
      "id": "fWMBceFSuO0-",
      "execution_count": null,
      "outputs": []
    },
    {
      "cell_type": "markdown",
      "metadata": {
        "id": "tKc5vrMrqdqD"
      },
      "source": [
        "**User Interface to take inputs from user**"
      ],
      "id": "tKc5vrMrqdqD"
    },
    {
      "cell_type": "code",
      "metadata": {
        "id": "E2fQ_c-r07PM",
        "colab": {
          "base_uri": "https://localhost:8080/"
        },
        "outputId": "9d897bca-f448-4d0f-fa7b-66693ffa8a2d"
      },
      "source": [
        "#USER INTERFACE BLOCK \n",
        "print('Welcome to IMS! Please enter your items')\n",
        "res_lst=[]\n",
        "while(True):\n",
        "  s_lst=[]\n",
        "  item_of_purchase=input('Enter the item you want ')\n",
        "  item_quant=int(input('How many do you want? '))\n",
        "  for i in convnext.keys(): #Traverse dictionary using keys\n",
        "    if convnext[i]['Name']==item_of_purchase:\n",
        "      #Store id,name,cost,quantity of item in a list s_lst\n",
        "      s_lst.extend([i,convnext[i]['Name'],convnext[i]['Cost'],item_quant]) #Retrieve the required attributes and append to a list\n",
        "      convnext[i]['Units']=convnext[i]['Units']-item_quant #update json inventory\n",
        "  #Append the list in res_lst\n",
        "  res_lst.append(s_lst)\n",
        "  response=input('Do you wish to add more items?(Yes/No) ')\n",
        "  if response=='Yes' or response=='yes':\n",
        "    print('Then continue! ')\n",
        "  elif response=='No' or response=='no':\n",
        "    print('The innvoice will be generated. Thank You for Shopping! ')\n",
        "    break\n",
        "#print(res_lst)\n",
        "\n",
        "\n"
      ],
      "id": "E2fQ_c-r07PM",
      "execution_count": null,
      "outputs": [
        {
          "output_type": "stream",
          "name": "stdout",
          "text": [
            "Welcome to IMS! Please enter your items\n",
            "Enter the item you want Syska_Powerbank\n",
            "How many do you want? 2\n",
            "Do you wish to add more items?(Yes/No) Yes\n",
            "Then continue! \n",
            "Enter the item you want Oppo_F17_smartphone\n",
            "How many do you want? 2\n",
            "Do you wish to add more items?(Yes/No) no\n",
            "The innvoice will be generated. Thank You for Shopping! \n",
            "[['11652255', 'Syska_Powerbank', 2000, 2], ['11652267', 'Oppo_F17_smartphone', 17000, 2]]\n"
          ]
        }
      ]
    },
    {
      "cell_type": "code",
      "metadata": {
        "id": "2BBjdLFh1OTl"
      },
      "source": [
        "#JSON FILE UPDATION BLOCK\n",
        "fs=open('/content/Dataset_mod_6.json','w')\n",
        "final_conv=json.dumps(convnext) #convert back to json\n",
        "fs.write(final_conv) #Save updated inventory\n",
        "fs.close()\n"
      ],
      "id": "2BBjdLFh1OTl",
      "execution_count": null,
      "outputs": []
    },
    {
      "cell_type": "markdown",
      "metadata": {
        "id": "GEyR7GNoqwfH"
      },
      "source": [
        "**Bill Generation**"
      ],
      "id": "GEyR7GNoqwfH"
    },
    {
      "cell_type": "code",
      "metadata": {
        "colab": {
          "base_uri": "https://localhost:8080/"
        },
        "id": "TVSMyuVfwGGv",
        "outputId": "7ba8a92a-0541-4d5c-c78b-80f153f1a434"
      },
      "source": [
        "#BILL GENERATION BLOCK\n",
        "import pandas as pd\n",
        "columns_of_bill=['ID','Name_of_the_item','Total_Cost','Quantity']\n",
        "res_df=pd.DataFrame(columns=columns_of_bill) #initialize pandas dataframe with specified columns\n",
        "print('Invoice as follows')\n",
        "total_cost=0\n",
        "count_tot=0\n",
        "for lst in res_lst:\n",
        "  res_df.loc[count_tot,:]=[lst[0],lst[1],lst[2]*lst[3],lst[3]] #add new values to dataframe\n",
        "  count_tot+=1\n",
        "  total_cost+=lst[2]*lst[3] #compute total cost\n",
        "print(res_df)\n",
        "print('\\n         Total (inclusive of taxes): ',float(total_cost*1.1))\n",
        "\n",
        "  \n"
      ],
      "id": "TVSMyuVfwGGv",
      "execution_count": null,
      "outputs": [
        {
          "output_type": "stream",
          "name": "stdout",
          "text": [
            "Invoice as follows\n",
            "         ID     Name_of_the_item Total_Cost Quantity\n",
            "0  11652255      Syska_Powerbank       4000        2\n",
            "1  11652267  Oppo_F17_smartphone      34000        2\n",
            "\n",
            "         Total (inclusive of taxes):  41800.0\n"
          ]
        }
      ]
    }
  ]
}