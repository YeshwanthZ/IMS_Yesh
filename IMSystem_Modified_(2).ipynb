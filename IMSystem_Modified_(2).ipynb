{
  "nbformat": 4,
  "nbformat_minor": 5,
  "metadata": {
    "kernelspec": {
      "display_name": "Python 3",
      "language": "python",
      "name": "python3"
    },
    "language_info": {
      "codemirror_mode": {
        "name": "ipython",
        "version": 3
      },
      "file_extension": ".py",
      "mimetype": "text/x-python",
      "name": "python",
      "nbconvert_exporter": "python",
      "pygments_lexer": "ipython3",
      "version": "3.8.8"
    },
    "colab": {
      "name": "IMSystem_Modified_(2).ipynb",
      "provenance": []
    }
  },
  "cells": [
    {
      "cell_type": "code",
      "metadata": {
        "colab": {
          "base_uri": "https://localhost:8080/",
          "height": 171
        },
        "id": "a99a0ba5",
        "outputId": "f1ec6728-2a21-4a71-d93b-7d22115db988"
      },
      "source": [
        "#MANUAL ENTRY BLOCK 1 START\n",
        "records={\n",
        "11006591:{\"Name\":\"Puma_EW_Cricket_Bat\", \"Type\":\"Sports_Accessories\", \"Cost\":5000,\"Return_Available\":\"Yes\",\"Suitability\":\"Senior\",\"Units\":80},\n",
        "11006592:{\"Name\":\"Puma_KW_Cricket_Bat\", \"Type\":\"Sports_Accessories\", \"Cost\":3000,\"Return_Available\":\"Yes\",\"Suitability\":\"All\",\"Units\":80},\n",
        "11006593:{\"Name\":\"Puma_Running_Shoes\", \"Type\":\"Sports_Accessories\", \"Cost\":3500,\"Return_Available\":\"Yes\",\"Suitability\":\"Senior\",\"Units\":80},\n",
        "11006594:{\"Name\":\"Adidas_Spiked_Shoes\", \"Type\":\"Sports_Accessories\", \"Cost\":5500,\"Return_Available\":\"Yes\",\"Suitability\":\"Senior\",\"Units\":80},\n",
        "11006595:{\"Name\":\"Adidas_Track_Pant\", \"Type\":\"Sports_Accessories\", \"Cost\":1500,\"Return_Available\":\"Yes\",\"Suitability\":\"Senior\",\"Units\":80},\n",
        "11006596:{\"Name\":\"Adidas_Track_Pant\", \"Type\":\"Sports_Accessories\", \"Cost\":1200,\"Return_Available\":\"Yes\",\"Suitability\":\"Junior\",\"Units\":80},\n",
        "11006597:{\"Name\":\"Apple_Iphone_10S\", \"Type\":\"Gadgets\", \"Cost\":75000,\"Return_Available\":\"No\",\"Suitability\":\"All\",\"Units\":80},\n",
        "11006598:{\"Name\":\"Apple_Ipad_Mini\", \"Type\":\"Gadgets\", \"Cost\":55000,\"Return_Available\":\"No\",\"Suitability\":\"All\",\"Units\":80},\n",
        "11006599:{\"Name\":\"Apple_Smartwatch\", \"Type\":\"Gadgets\", \"Cost\":15000,\"Return_Available\":\"No\",\"Suitability\":\"All\",\"Units\":80},\n",
        "11006600:{\"Name\":\"Samsung_Galaxy_S9_smartphone\", \"Type\":\"Gadgets\", \"Cost\":70000,\"Return_Available\":\"No\",\"Suitability\":\"All\",\"Units\":80},\n",
        "11006601:{\"Name\":\"Samsung_Galaxy_S6_smartphone\", \"Type\":\"Gadgets\", \"Cost\":45000,\"Return_Available\":\"No\",\"Suitability\":\"All\",\"Units\":80},\n",
        "11652250:{\"Name\":\"Samsung_Galaxy_Smartwatch\", \"Type\":\"Gadgets\", \"Cost\":10000,\"Return_Available\":\"No\",\"Suitability\":\"All\",\"Units\":80},\n",
        "11652251:{\"Name\":\"Sony_Noise_Cancellation_Headphones\", \"Type\":\"Gadgets\", \"Cost\":18000,\"Return_Available\":\"No\",\"Suitability\":\"All\",\"Units\":80},\n",
        "11652252:{\"Name\":\"Bose_Noise_Cancellation_Headphones\", \"Type\":\"Gadgets\", \"Cost\":18800,\"Return_Available\":\"No\",\"Suitability\":\"All\",\"Units\":80},\n",
        "11652253:{\"Name\":\"Playstation\", \"Type\":\"Gadgets\", \"Cost\":8000,\"Return_Available\":\"No\",\"Suitability\":\"All\",\"Units\":80},\n",
        "11652254:{\"Name\":\"PSP\", \"Type\":\"Gadgets\", \"Cost\":8500,\"Return_Available\":\"No\",\"Suitability\":\"All\",\"Units\":80},\n",
        "11652255:{\"Name\":\"Syska_Powerbank\", \"Type\":\"Gadgets\", \"Cost\":2000,\"Return_Available\":\"No\",\"Suitability\":\"All\",\"Units\":80},\n",
        "11652256:{\"Name\":\"Xaomi_Powerbank\", \"Type\":\"Gadgets\", \"Cost\":1600,\"Return_Available\":\"No\",\"Suitability\":\"All\",\"Units\":80},\n",
        "11652257:{\"Name\":\"Ambrane_Powerbank\", \"Type\":\"Gadgets\", \"Cost\":1100,\"Return_Available\":\"No\",\"Suitability\":\"All\",\"Units\":80},\n",
        "11652258:{\"Name\":\"Ambrane_Powerbank\", \"Type\":\"Gadgets\", \"Cost\":1100,\"Return_Available\":\"No\",\"Suitability\":\"All\",\"Units\":80},\n",
        "11652259:{\"Name\":\"Lava_Z2_smartphone\", \"Type\":\"Gadgets\", \"Cost\":7300,\"Return_Available\":\"No\",\"Suitability\":\"All\",\"Units\":80},\n",
        "11652260:{\"Name\":\"iQOO_Z3_smartphone\", \"Type\":\"Gadgets\", \"Cost\":20000,\"Return_Available\":\"No\",\"Suitability\":\"All\",\"Units\":80},\n",
        "11652261:{\"Name\":\"Tecno_Spark_7T_smartphone\", \"Type\":\"Gadgets\", \"Cost\":9500,\"Return_Available\":\"No\",\"Suitability\":\"All\",\"Units\":80},\n",
        "11652262:{\"Name\":\"Nokia_G20_smartphone\", \"Type\":\"Gadgets\", \"Cost\":12000,\"Return_Available\":\"No\",\"Suitability\":\"All\",\"Units\":80},\n",
        "11652263:{\"Name\":\"Realme_C11_smartphone\", \"Type\":\"Gadgets\", \"Cost\":7300,\"Return_Available\":\"No\",\"Suitability\":\"All\",\"Units\":80},\n",
        "11652264:{\"Name\":\"Realme_Narzo_30_smartphone\", \"Type\":\"Gadgets\", \"Cost\":14000,\"Return_Available\":\"No\",\"Suitability\":\"All\",\"Units\":80},\n",
        "11652265:{\"Name\":\"Oppo_A74_smartphone\", \"Type\":\"Gadgets\", \"Cost\":18000,\"Return_Available\":\"No\",\"Suitability\":\"All\",\"Units\":80},\n",
        "11652266:{\"Name\":\"Oppo_F19_smartphone\", \"Type\":\"Gadgets\", \"Cost\":26000,\"Return_Available\":\"No\",\"Suitability\":\"All\",\"Units\":80},\n",
        "11652267:{\"Name\":\"Oppo_F17_smartphone\", \"Type\":\"Gadgets\", \"Cost\":17000,\"Return_Available\":\"No\",\"Suitability\":\"All\",\"Units\":80},\n",
        "11652268:{\"Name\":\"Vivo_X60_smartphone\", \"Type\":\"Gadgets\", \"Cost\":35000,\"Return_Available\":\"No\",\"Suitability\":\"All\",\"Units\":80},\n",
        "11652269:{\"Name\":\"Vivo_V21_smartphone\", \"Type\":\"Gadgets\", \"Cost\":30000,\"Return_Available\":\"No\",\"Suitability\":\"All\",\"Units\":80},\n",
        "11652270:{\"Name\":\"Vivo_Y20_smartphone\", \"Type\":\"Gadgets\", \"Cost\":16000,\"Return_Available\":\"No\",\"Suitability\":\"All\",\"Units\":80},\"11652271\":{\"Name\":\"Oneplus_Nord_2_smartphone\", \"Type\":\"Gadgets\", \"Cost\":30000,\"Return_Available\":\"No\",\"Suitability\":\"All\",\"Units\":80},\n",
        "11652272:{\"Name\":\"Tommy_Hilfiger_Checkered_shirt\", \"Type\":\"Clothing\", \"Cost\":3300,\"Return_Available\":\"Yes\",\"Suitability\":\"Senior\",\"Units\":80},\n",
        "11652273:{\"Name\":\"Levis_Checkered_shirt\", \"Type\":\"Clothing\", \"Cost\":3300,\"Return_Available\":\"Yes\",\"Suitability\":\"Senior\",\"Units\":80},\n",
        "11652274:{\"Name\":\"Tommy_Hilfiger_Casual_shirt\", \"Type\":\"Clothing\", \"Cost\":3500,\"Return_Available\":\"Yes\",\"Suitability\":\"Senior\",\"Units\":80},\n",
        "11652275:{\"Name\":\"Levis_Casual_shirt\", \"Type\":\"Clothing\", \"Cost\":3200,\"Return_Available\":\"Yes\",\"Suitability\":\"Senior\",\"Units\":80}\n",
        "}\n",
        "import json\n",
        "jsobj=json.dumps(records) #dumps records into the json file\n",
        "jsobj\n"
      ],
      "id": "a99a0ba5",
      "execution_count": 1,
      "outputs": [
        {
          "output_type": "execute_result",
          "data": {
            "application/vnd.google.colaboratory.intrinsic+json": {
              "type": "string"
            },
            "text/plain": [
              "'{\"11006591\": {\"Name\": \"Puma_EW_Cricket_Bat\", \"Type\": \"Sports_Accessories\", \"Cost\": 5000, \"Return_Available\": \"Yes\", \"Suitability\": \"Senior\", \"Units\": 80}, \"11006592\": {\"Name\": \"Puma_KW_Cricket_Bat\", \"Type\": \"Sports_Accessories\", \"Cost\": 3000, \"Return_Available\": \"Yes\", \"Suitability\": \"All\", \"Units\": 80}, \"11006593\": {\"Name\": \"Puma_Running_Shoes\", \"Type\": \"Sports_Accessories\", \"Cost\": 3500, \"Return_Available\": \"Yes\", \"Suitability\": \"Senior\", \"Units\": 80}, \"11006594\": {\"Name\": \"Adidas_Spiked_Shoes\", \"Type\": \"Sports_Accessories\", \"Cost\": 5500, \"Return_Available\": \"Yes\", \"Suitability\": \"Senior\", \"Units\": 80}, \"11006595\": {\"Name\": \"Adidas_Track_Pant\", \"Type\": \"Sports_Accessories\", \"Cost\": 1500, \"Return_Available\": \"Yes\", \"Suitability\": \"Senior\", \"Units\": 80}, \"11006596\": {\"Name\": \"Adidas_Track_Pant\", \"Type\": \"Sports_Accessories\", \"Cost\": 1200, \"Return_Available\": \"Yes\", \"Suitability\": \"Junior\", \"Units\": 80}, \"11006597\": {\"Name\": \"Apple_Iphone_10S\", \"Type\": \"Gadgets\", \"Cost\": 75000, \"Return_Available\": \"No\", \"Suitability\": \"All\", \"Units\": 80}, \"11006598\": {\"Name\": \"Apple_Ipad_Mini\", \"Type\": \"Gadgets\", \"Cost\": 55000, \"Return_Available\": \"No\", \"Suitability\": \"All\", \"Units\": 80}, \"11006599\": {\"Name\": \"Apple_Smartwatch\", \"Type\": \"Gadgets\", \"Cost\": 15000, \"Return_Available\": \"No\", \"Suitability\": \"All\", \"Units\": 80}, \"11006600\": {\"Name\": \"Samsung_Galaxy_S9_smartphone\", \"Type\": \"Gadgets\", \"Cost\": 70000, \"Return_Available\": \"No\", \"Suitability\": \"All\", \"Units\": 80}, \"11006601\": {\"Name\": \"Samsung_Galaxy_S6_smartphone\", \"Type\": \"Gadgets\", \"Cost\": 45000, \"Return_Available\": \"No\", \"Suitability\": \"All\", \"Units\": 80}, \"11652250\": {\"Name\": \"Samsung_Galaxy_Smartwatch\", \"Type\": \"Gadgets\", \"Cost\": 10000, \"Return_Available\": \"No\", \"Suitability\": \"All\", \"Units\": 80}, \"11652251\": {\"Name\": \"Sony_Noise_Cancellation_Headphones\", \"Type\": \"Gadgets\", \"Cost\": 18000, \"Return_Available\": \"No\", \"Suitability\": \"All\", \"Units\": 80}, \"11652252\": {\"Name\": \"Bose_Noise_Cancellation_Headphones\", \"Type\": \"Gadgets\", \"Cost\": 18800, \"Return_Available\": \"No\", \"Suitability\": \"All\", \"Units\": 80}, \"11652253\": {\"Name\": \"Playstation\", \"Type\": \"Gadgets\", \"Cost\": 8000, \"Return_Available\": \"No\", \"Suitability\": \"All\", \"Units\": 80}, \"11652254\": {\"Name\": \"PSP\", \"Type\": \"Gadgets\", \"Cost\": 8500, \"Return_Available\": \"No\", \"Suitability\": \"All\", \"Units\": 80}, \"11652255\": {\"Name\": \"Syska_Powerbank\", \"Type\": \"Gadgets\", \"Cost\": 2000, \"Return_Available\": \"No\", \"Suitability\": \"All\", \"Units\": 80}, \"11652256\": {\"Name\": \"Xaomi_Powerbank\", \"Type\": \"Gadgets\", \"Cost\": 1600, \"Return_Available\": \"No\", \"Suitability\": \"All\", \"Units\": 80}, \"11652257\": {\"Name\": \"Ambrane_Powerbank\", \"Type\": \"Gadgets\", \"Cost\": 1100, \"Return_Available\": \"No\", \"Suitability\": \"All\", \"Units\": 80}, \"11652258\": {\"Name\": \"Ambrane_Powerbank\", \"Type\": \"Gadgets\", \"Cost\": 1100, \"Return_Available\": \"No\", \"Suitability\": \"All\", \"Units\": 80}, \"11652259\": {\"Name\": \"Lava_Z2_smartphone\", \"Type\": \"Gadgets\", \"Cost\": 7300, \"Return_Available\": \"No\", \"Suitability\": \"All\", \"Units\": 80}, \"11652260\": {\"Name\": \"iQOO_Z3_smartphone\", \"Type\": \"Gadgets\", \"Cost\": 20000, \"Return_Available\": \"No\", \"Suitability\": \"All\", \"Units\": 80}, \"11652261\": {\"Name\": \"Tecno_Spark_7T_smartphone\", \"Type\": \"Gadgets\", \"Cost\": 9500, \"Return_Available\": \"No\", \"Suitability\": \"All\", \"Units\": 80}, \"11652262\": {\"Name\": \"Nokia_G20_smartphone\", \"Type\": \"Gadgets\", \"Cost\": 12000, \"Return_Available\": \"No\", \"Suitability\": \"All\", \"Units\": 80}, \"11652263\": {\"Name\": \"Realme_C11_smartphone\", \"Type\": \"Gadgets\", \"Cost\": 7300, \"Return_Available\": \"No\", \"Suitability\": \"All\", \"Units\": 80}, \"11652264\": {\"Name\": \"Realme_Narzo_30_smartphone\", \"Type\": \"Gadgets\", \"Cost\": 14000, \"Return_Available\": \"No\", \"Suitability\": \"All\", \"Units\": 80}, \"11652265\": {\"Name\": \"Oppo_A74_smartphone\", \"Type\": \"Gadgets\", \"Cost\": 18000, \"Return_Available\": \"No\", \"Suitability\": \"All\", \"Units\": 80}, \"11652266\": {\"Name\": \"Oppo_F19_smartphone\", \"Type\": \"Gadgets\", \"Cost\": 26000, \"Return_Available\": \"No\", \"Suitability\": \"All\", \"Units\": 80}, \"11652267\": {\"Name\": \"Oppo_F17_smartphone\", \"Type\": \"Gadgets\", \"Cost\": 17000, \"Return_Available\": \"No\", \"Suitability\": \"All\", \"Units\": 80}, \"11652268\": {\"Name\": \"Vivo_X60_smartphone\", \"Type\": \"Gadgets\", \"Cost\": 35000, \"Return_Available\": \"No\", \"Suitability\": \"All\", \"Units\": 80}, \"11652269\": {\"Name\": \"Vivo_V21_smartphone\", \"Type\": \"Gadgets\", \"Cost\": 30000, \"Return_Available\": \"No\", \"Suitability\": \"All\", \"Units\": 80}, \"11652270\": {\"Name\": \"Vivo_Y20_smartphone\", \"Type\": \"Gadgets\", \"Cost\": 16000, \"Return_Available\": \"No\", \"Suitability\": \"All\", \"Units\": 80}, \"11652271\": {\"Name\": \"Oneplus_Nord_2_smartphone\", \"Type\": \"Gadgets\", \"Cost\": 30000, \"Return_Available\": \"No\", \"Suitability\": \"All\", \"Units\": 80}, \"11652272\": {\"Name\": \"Tommy_Hilfiger_Checkered_shirt\", \"Type\": \"Clothing\", \"Cost\": 3300, \"Return_Available\": \"Yes\", \"Suitability\": \"Senior\", \"Units\": 80}, \"11652273\": {\"Name\": \"Levis_Checkered_shirt\", \"Type\": \"Clothing\", \"Cost\": 3300, \"Return_Available\": \"Yes\", \"Suitability\": \"Senior\", \"Units\": 80}, \"11652274\": {\"Name\": \"Tommy_Hilfiger_Casual_shirt\", \"Type\": \"Clothing\", \"Cost\": 3500, \"Return_Available\": \"Yes\", \"Suitability\": \"Senior\", \"Units\": 80}, \"11652275\": {\"Name\": \"Levis_Casual_shirt\", \"Type\": \"Clothing\", \"Cost\": 3200, \"Return_Available\": \"Yes\", \"Suitability\": \"Senior\", \"Units\": 80}}'"
            ]
          },
          "metadata": {},
          "execution_count": 1
        }
      ]
    },
    {
      "cell_type": "code",
      "metadata": {
        "id": "rHpkqzGe-BwO"
      },
      "source": [
        "#MANUAL ENTRY BLOCK 1 END\n",
        "fs=open('/content/Dataset_mod_6.json','w') #add new records\n",
        "fs.write(jsobj)\n",
        "fs.close()"
      ],
      "id": "rHpkqzGe-BwO",
      "execution_count": 2,
      "outputs": []
    },
    {
      "cell_type": "code",
      "metadata": {
        "id": "L5egFF4fniZG"
      },
      "source": [
        "#MANUAL ENTRY BLOCK 2 START\n",
        "fs=open('/content/Dataset_mod_6.json','r') #Read json \n",
        "conv=fs.read() \n",
        "fs.close()\n",
        "convnext=json.loads(conv) #convert json to dictonary"
      ],
      "id": "L5egFF4fniZG",
      "execution_count": 3,
      "outputs": []
    },
    {
      "cell_type": "code",
      "metadata": {
        "id": "wfDgKiOky9pj",
        "colab": {
          "base_uri": "https://localhost:8080/"
        },
        "outputId": "2a018114-7cbf-46d5-d99c-33ac0a5bda65"
      },
      "source": [
        "#MANUAL ENTRY BLOCK 2 END\n",
        "fs=open('/content/Dataset_mod_6.json','w') #add new records\n",
        "id=input('Enter ID ')\n",
        "name_item=input('Enter name of the item ')\n",
        "item_type=input('Enter type of item ')\n",
        "item_cost=int(input('Enter cost of item '))\n",
        "ret_avail=input('Enter return availability ')\n",
        "suiting=input('Enter suitability age group ')\n",
        "items_avail=int(input('Enter number of items available '))\n",
        "convnext[id]={\"Name\":name_item, \"Type\":item_type, \"Cost\":item_cost,\"Return_Available\":ret_avail,\"Suitability\":suiting,\"Units\":items_avail}\n",
        "new_recs=json.dumps(convnext) #convert updated dictonary back to json\n",
        "fs.write(new_recs) #write updated json\n",
        "fs.close() #save"
      ],
      "id": "wfDgKiOky9pj",
      "execution_count": 4,
      "outputs": [
        {
          "name": "stdout",
          "output_type": "stream",
          "text": [
            "Enter ID 11227788\n",
            "Enter name of the item Lays_Tomato\n",
            "Enter type of item Food\n",
            "Enter cost of item 60\n",
            "Enter return availability Yes\n",
            "Enter suitability age group All\n",
            "Enter number of items available 60\n"
          ]
        }
      ]
    },
    {
      "cell_type": "code",
      "metadata": {
        "id": "wdx5EG_kWNOl",
        "colab": {
          "base_uri": "https://localhost:8080/"
        },
        "outputId": "8b8513d2-1419-4b7d-a5f3-ac9d54840d12"
      },
      "source": [
        "#UPDATION OF EXISTING ENTRIES BLOCK START\n",
        "fs=open('/content/Dataset_mod_6.json','r') #Read json \n",
        "conv=fs.read() \n",
        "fs.close()\n",
        "convnext=json.loads(conv) #Convert json to dictonary\n",
        "print(convnext)"
      ],
      "id": "wdx5EG_kWNOl",
      "execution_count": null,
      "outputs": [
        {
          "output_type": "stream",
          "name": "stdout",
          "text": [
            "{'11006591': {'Name': 'Puma_EW_Cricket_Bat', 'Type': 'Sports_Accessories', 'Cost': 5000, 'Return_Available': 'Yes', 'Suitability': 'Senior', 'Units': 80}, '11006592': {'Name': 'Puma_KW_Cricket_Bat', 'Type': 'Sports_Accessories', 'Cost': 3000, 'Return_Available': 'Yes', 'Suitability': 'All', 'Units': 80}, '11006593': {'Name': 'Puma_Running_Shoes', 'Type': 'Sports_Accessories', 'Cost': 3500, 'Return_Available': 'Yes', 'Suitability': 'Senior', 'Units': 80}, '11006594': {'Name': 'Adidas_Spiked_Shoes', 'Type': 'Sports_Accessories', 'Cost': 5500, 'Return_Available': 'Yes', 'Suitability': 'Senior', 'Units': 80}, '11006595': {'Name': 'Adidas_Track_Pant', 'Type': 'Sports_Accessories', 'Cost': 1500, 'Return_Available': 'Yes', 'Suitability': 'Senior', 'Units': 80}, '11006596': {'Name': 'Adidas_Track_Pant', 'Type': 'Sports_Accessories', 'Cost': 1200, 'Return_Available': 'Yes', 'Suitability': 'Junior', 'Units': 80}, '11006597': {'Name': 'Apple_Iphone_10S', 'Type': 'Gadgets', 'Cost': 75000, 'Return_Available': 'No', 'Suitability': 'All', 'Units': 80}, '11227788': {'Name': 'Wooden_Chairs', 'Type': 'Furniture', 'Cost': 3000, 'Return_Available': 'Yes', 'Suitability': 'All', 'Units': 60}}\n"
          ]
        }
      ]
    },
    {
      "cell_type": "code",
      "metadata": {
        "id": "fWMBceFSuO0-"
      },
      "source": [
        "#UPDATION OF EXISTING ENTRIES BLOCK END\n",
        "fs=open('/content/Dataset_mod_6.json','w')\n",
        "convnext['11006591']['Name']='Puma_EW_g2_Cricket_Bat_5' #update any existing record\n",
        "print(convnext)\n",
        "final_conv=json.dumps(convnext) #convert back to json\n",
        "#print(final_conv)\n",
        "fs.write(final_conv) #Save updated file\n",
        "fs.close()"
      ],
      "id": "fWMBceFSuO0-",
      "execution_count": null,
      "outputs": []
    },
    {
      "cell_type": "code",
      "metadata": {
        "id": "E2fQ_c-r07PM",
        "colab": {
          "base_uri": "https://localhost:8080/"
        },
        "outputId": "9d897bca-f448-4d0f-fa7b-66693ffa8a2d"
      },
      "source": [
        "#USER INTERFACE BLOCK convnext\n",
        "print('Welcome to IMS! Please enter your items')\n",
        "res_lst=[]\n",
        "while(True):\n",
        "  s_lst=[]\n",
        "  item_of_purchase=input('Enter the item you want ')\n",
        "  item_quant=int(input('How many do you want? '))\n",
        "  for i in convnext.keys():\n",
        "    if convnext[i]['Name']==item_of_purchase:\n",
        "      #Store id,name,cost,quantity of item in a list s_lst\n",
        "      s_lst.extend([i,convnext[i]['Name'],convnext[i]['Cost'],item_quant]) \n",
        "      convnext[i]['Units']=convnext[i]['Units']-item_quant #update json inventory\n",
        "  #Append the list in res_lst\n",
        "  res_lst.append(s_lst)\n",
        "  response=input('Do you wish to add more items?(Yes/No) ')\n",
        "  if response=='Yes' or response=='yes':\n",
        "    print('Then continue! ')\n",
        "  elif response=='No' or response=='no':\n",
        "    print('The innvoice will be generated. Thank You for Shopping! ')\n",
        "    break\n",
        "print(res_lst)\n",
        "\n",
        "\n"
      ],
      "id": "E2fQ_c-r07PM",
      "execution_count": 10,
      "outputs": [
        {
          "output_type": "stream",
          "name": "stdout",
          "text": [
            "Welcome to IMS! Please enter your items\n",
            "Enter the item you want Syska_Powerbank\n",
            "How many do you want? 2\n",
            "Do you wish to add more items?(Yes/No) Yes\n",
            "Then continue! \n",
            "Enter the item you want Oppo_F17_smartphone\n",
            "How many do you want? 2\n",
            "Do you wish to add more items?(Yes/No) no\n",
            "The innvoice will be generated. Thank You for Shopping! \n",
            "[['11652255', 'Syska_Powerbank', 2000, 2], ['11652267', 'Oppo_F17_smartphone', 17000, 2]]\n"
          ]
        }
      ]
    },
    {
      "cell_type": "code",
      "metadata": {
        "id": "2BBjdLFh1OTl"
      },
      "source": [
        "#JSON FILE UPDATION BLOCK\n",
        "fs=open('/content/Dataset_mod_6.json','w')\n",
        "final_conv=json.dumps(convnext) #convert back to json\n",
        "fs.write(final_conv) #Save updated inventory\n",
        "fs.close()\n"
      ],
      "id": "2BBjdLFh1OTl",
      "execution_count": 11,
      "outputs": []
    },
    {
      "cell_type": "code",
      "metadata": {
        "colab": {
          "base_uri": "https://localhost:8080/"
        },
        "id": "TVSMyuVfwGGv",
        "outputId": "7ba8a92a-0541-4d5c-c78b-80f153f1a434"
      },
      "source": [
        "#BILL GENERATION BLOCK\n",
        "import pandas as pd\n",
        "columns_of_bill=['ID','Name_of_the_item','Total_Cost','Quantity']\n",
        "res_df=pd.DataFrame(columns=columns_of_bill) #initialize dataframe with specified columns\n",
        "print('Invoice as follows')\n",
        "total_cost=0\n",
        "count_tot=0\n",
        "for lst in res_lst:\n",
        "  res_df.loc[count_tot,:]=[lst[0],lst[1],lst[2]*lst[3],lst[3]] #add new values to dataframe\n",
        "  count_tot+=1\n",
        "  total_cost+=lst[2]*lst[3] #compute total cost\n",
        "print(res_df)\n",
        "print('\\n         Total (inclusive of taxes): ',float(total_cost*1.1))\n",
        "\n",
        "  \n"
      ],
      "id": "TVSMyuVfwGGv",
      "execution_count": 18,
      "outputs": [
        {
          "output_type": "stream",
          "name": "stdout",
          "text": [
            "Invoice as follows\n",
            "         ID     Name_of_the_item Total_Cost Quantity\n",
            "0  11652255      Syska_Powerbank       4000        2\n",
            "1  11652267  Oppo_F17_smartphone      34000        2\n",
            "\n",
            "         Total (inclusive of taxes):  41800.0\n"
          ]
        }
      ]
    }
  ]
}